{
  "nbformat": 4,
  "nbformat_minor": 0,
  "metadata": {
    "colab": {
      "name": "Handwritten_Digit_Recognition.ipynb",
      "provenance": [],
      "collapsed_sections": [],
      "authorship_tag": "ABX9TyOyC7Jk/pCPxh/GZvrO6B9g",
      "include_colab_link": true
    },
    "kernelspec": {
      "name": "python3",
      "display_name": "Python 3"
    }
  },
  "cells": [
    {
      "cell_type": "markdown",
      "metadata": {
        "id": "view-in-github",
        "colab_type": "text"
      },
      "source": [
        "<a href=\"https://colab.research.google.com/github/rakshaa2000/30-Days-of-ML/blob/main/Handwritten_Digit_Recognition.ipynb\" target=\"_parent\"><img src=\"https://colab.research.google.com/assets/colab-badge.svg\" alt=\"Open In Colab\"/></a>"
      ]
    },
    {
      "cell_type": "markdown",
      "metadata": {
        "id": "sQh_PGzxYsfD"
      },
      "source": [
        "**Handwritten Digit Recognition**\\\n",
        "This notebook recognises hand written digits with the help of Deep Learning"
      ]
    },
    {
      "cell_type": "code",
      "metadata": {
        "id": "KS8k2kSeYnRP",
        "outputId": "0c301e1f-1590-4d78-ca7b-e4c4fc5fa3ac",
        "colab": {
          "base_uri": "https://localhost:8080/",
          "height": 70
        }
      },
      "source": [
        "import keras\n",
        "from keras.datasets import mnist\n",
        "from keras.models import Sequential\n",
        "from keras.layers import Dense, Dropout, Flatten\n",
        "from keras.layers import Conv2D, MaxPooling2D\n",
        "from keras import backend as K\n",
        "\n",
        "# the data, split between train and test sets\n",
        "(x_train, y_train), (x_test, y_test) = mnist.load_data()\n",
        "\n",
        "print(x_train.shape, y_train.shape)"
      ],
      "execution_count": 1,
      "outputs": [
        {
          "output_type": "stream",
          "text": [
            "Downloading data from https://storage.googleapis.com/tensorflow/tf-keras-datasets/mnist.npz\n",
            "11493376/11490434 [==============================] - 0s 0us/step\n",
            "(60000, 28, 28) (60000,)\n"
          ],
          "name": "stdout"
        }
      ]
    },
    {
      "cell_type": "code",
      "metadata": {
        "id": "uMHbFqU3ZfQG",
        "outputId": "1b0c96af-d231-41ee-e5c1-4f26608b8ef0",
        "colab": {
          "base_uri": "https://localhost:8080/",
          "height": 70
        }
      },
      "source": [
        "x_train = x_train.reshape(x_train.shape[0], 28, 28, 1)\n",
        "x_test = x_test.reshape(x_test.shape[0], 28, 28, 1)\n",
        "input_shape = (28, 28, 1)\n",
        "\n",
        "# convert class vectors to binary class matrices\n",
        "y_train = keras.utils.to_categorical(y_train, num_classes=None)\n",
        "y_test = keras.utils.to_categorical(y_test, num_classes=None)\n",
        "\n",
        "x_train = x_train.astype('float32')\n",
        "x_test = x_test.astype('float32')\n",
        "x_train /= 255\n",
        "x_test /= 255\n",
        "print('x_train shape:', x_train.shape)\n",
        "print(x_train.shape[0], 'train samples')\n",
        "print(x_test.shape[0], 'test samples')"
      ],
      "execution_count": 2,
      "outputs": [
        {
          "output_type": "stream",
          "text": [
            "x_train shape: (60000, 28, 28, 1)\n",
            "60000 train samples\n",
            "10000 test samples\n"
          ],
          "name": "stdout"
        }
      ]
    },
    {
      "cell_type": "code",
      "metadata": {
        "id": "GUvnurX4Z9c2"
      },
      "source": [
        "batch_size = 128\n",
        "num_classes = 10\n",
        "epochs = 10\n",
        "\n",
        "model = Sequential()\n",
        "model.add(Conv2D(32, kernel_size=(3, 3),activation='relu',input_shape=input_shape))\n",
        "model.add(Conv2D(64, (3, 3), activation='relu'))\n",
        "model.add(MaxPooling2D(pool_size=(2, 2)))\n",
        "model.add(Dropout(0.25))\n",
        "model.add(Flatten())\n",
        "model.add(Dense(256, activation='relu'))\n",
        "model.add(Dropout(0.5))\n",
        "model.add(Dense(num_classes, activation='softmax'))\n",
        "\n",
        "model.compile(loss=keras.losses.categorical_crossentropy,optimizer=keras.optimizers.Adadelta(),metrics=['accuracy'])"
      ],
      "execution_count": 3,
      "outputs": []
    },
    {
      "cell_type": "code",
      "metadata": {
        "id": "yUAk1z5baAO6",
        "outputId": "a864f8c8-510a-4fb1-b396-c085ecf48afa",
        "colab": {
          "base_uri": "https://localhost:8080/",
          "height": 404
        }
      },
      "source": [
        "hist = model.fit(x_train, y_train,batch_size=batch_size,epochs=epochs,verbose=1,validation_data=(x_test, y_test))\n",
        "print(\"The model has successfully trained\")\n",
        "\n",
        "model.save('mnist.h5')\n",
        "print(\"Saving the model as mnist.h5\")"
      ],
      "execution_count": 4,
      "outputs": [
        {
          "output_type": "stream",
          "text": [
            "Epoch 1/10\n",
            "469/469 [==============================] - 153s 327ms/step - loss: 2.2872 - accuracy: 0.1277 - val_loss: 2.2614 - val_accuracy: 0.2139\n",
            "Epoch 2/10\n",
            "469/469 [==============================] - 153s 327ms/step - loss: 2.2435 - accuracy: 0.2374 - val_loss: 2.2082 - val_accuracy: 0.4445\n",
            "Epoch 3/10\n",
            "469/469 [==============================] - 152s 323ms/step - loss: 2.1856 - accuracy: 0.3489 - val_loss: 2.1328 - val_accuracy: 0.5923\n",
            "Epoch 4/10\n",
            "469/469 [==============================] - 152s 324ms/step - loss: 2.1008 - accuracy: 0.4550 - val_loss: 2.0205 - val_accuracy: 0.6724\n",
            "Epoch 5/10\n",
            "469/469 [==============================] - 152s 323ms/step - loss: 1.9760 - accuracy: 0.5404 - val_loss: 1.8556 - val_accuracy: 0.7351\n",
            "Epoch 6/10\n",
            "469/469 [==============================] - 154s 328ms/step - loss: 1.7989 - accuracy: 0.6066 - val_loss: 1.6304 - val_accuracy: 0.7781\n",
            "Epoch 7/10\n",
            "469/469 [==============================] - 154s 329ms/step - loss: 1.5772 - accuracy: 0.6543 - val_loss: 1.3665 - val_accuracy: 0.7995\n",
            "Epoch 8/10\n",
            "469/469 [==============================] - 158s 338ms/step - loss: 1.3442 - accuracy: 0.6850 - val_loss: 1.1159 - val_accuracy: 0.8126\n",
            "Epoch 9/10\n",
            "469/469 [==============================] - 154s 329ms/step - loss: 1.1509 - accuracy: 0.7054 - val_loss: 0.9201 - val_accuracy: 0.8269\n",
            "Epoch 10/10\n",
            "469/469 [==============================] - 152s 325ms/step - loss: 1.0043 - accuracy: 0.7291 - val_loss: 0.7815 - val_accuracy: 0.8368\n",
            "The model has successfully trained\n",
            "Saving the model as mnist.h5\n"
          ],
          "name": "stdout"
        }
      ]
    },
    {
      "cell_type": "code",
      "metadata": {
        "id": "ahpA_fclvC5l",
        "outputId": "d17f9eb7-607e-4f20-8d26-0a7c449b0783",
        "colab": {
          "base_uri": "https://localhost:8080/",
          "height": 52
        }
      },
      "source": [
        "score = model.evaluate(x_test, y_test, verbose=0)\n",
        "print('Test loss:', score[0])\n",
        "print('Test accuracy:', score[1])"
      ],
      "execution_count": 5,
      "outputs": [
        {
          "output_type": "stream",
          "text": [
            "Test loss: 0.781480073928833\n",
            "Test accuracy: 0.8367999792098999\n"
          ],
          "name": "stdout"
        }
      ]
    }
  ]
}