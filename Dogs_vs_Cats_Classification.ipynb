{
  "nbformat": 4,
  "nbformat_minor": 0,
  "metadata": {
    "kernelspec": {
      "name": "python3",
      "display_name": "Python 3",
      "language": "python"
    },
    "language_info": {
      "name": "python",
      "version": "3.6.6",
      "mimetype": "text/x-python",
      "codemirror_mode": {
        "name": "ipython",
        "version": 3
      },
      "pygments_lexer": "ipython3",
      "nbconvert_exporter": "python",
      "file_extension": ".py"
    },
    "colab": {
      "name": "Dogs-vs-Cats-Classification.ipynb",
      "provenance": [],
      "collapsed_sections": [],
      "include_colab_link": true
    }
  },
  "cells": [
    {
      "cell_type": "markdown",
      "metadata": {
        "id": "view-in-github",
        "colab_type": "text"
      },
      "source": [
        "<a href=\"https://colab.research.google.com/github/rakshaa2000/30-Days-of-ML/blob/main/Dogs_vs_Cats_Classification.ipynb\" target=\"_parent\"><img src=\"https://colab.research.google.com/assets/colab-badge.svg\" alt=\"Open In Colab\"/></a>"
      ]
    },
    {
      "cell_type": "markdown",
      "metadata": {
        "_uuid": "fe76d1d1ded592430e7548feacfa38dc42f085d9",
        "id": "BFrPp2C_2xuF"
      },
      "source": [
        "# Import Library"
      ]
    },
    {
      "cell_type": "code",
      "metadata": {
        "_uuid": "8f2839f25d086af736a60e9eeb907d3b93b6e0e5",
        "_cell_guid": "b1076dfc-b9ad-4769-8c92-a6c4dae69d19",
        "trusted": true,
        "id": "KwpShDuN2xuM"
      },
      "source": [
        "import numpy as np # linear algebra\n",
        "import pandas as pd # data processing, CSV file I/O (e.g. pd.read_csv)\n",
        "\n",
        "from keras.preprocessing.image import ImageDataGenerator, load_img\n",
        "from keras.utils import to_categorical\n",
        "from sklearn.model_selection import train_test_split\n",
        "import matplotlib.pyplot as plt\n",
        "import random\n",
        "\n",
        "import os\n",
        "print(os.listdir(\"../input\"))\n"
      ],
      "execution_count": null,
      "outputs": []
    },
    {
      "cell_type": "markdown",
      "metadata": {
        "_uuid": "7335a579cc0268fba5d34d6f7558f33c187eedb3",
        "id": "HJ-rVsoO2xuj"
      },
      "source": [
        "# Prepare Traning Data"
      ]
    },
    {
      "cell_type": "code",
      "metadata": {
        "_cell_guid": "79c7e3d0-c299-4dcb-8224-4455121ee9b0",
        "_uuid": "d629ff2d2480ee46fbb7e2d37f6b5fab8052498a",
        "trusted": true,
        "id": "y66lv9LE2xul"
      },
      "source": [
        "filenames = os.listdir(\"../input/train/train\")\n",
        "categories = []\n",
        "for filename in filenames:\n",
        "    category = filename.split('.')[0]\n",
        "    if category == 'dog':\n",
        "        categories.append(1)\n",
        "    else:\n",
        "        categories.append(0)\n",
        "\n",
        "df = pd.DataFrame({\n",
        "    'filename': filenames,\n",
        "    'category': categories\n",
        "})\n",
        "df.head()"
      ],
      "execution_count": null,
      "outputs": []
    },
    {
      "cell_type": "markdown",
      "metadata": {
        "_uuid": "a999484fc35b73373fafe2253ae9db7ff46fdb90",
        "id": "KO2t7Ttu2xu2"
      },
      "source": [
        "### See Total In count"
      ]
    },
    {
      "cell_type": "code",
      "metadata": {
        "trusted": true,
        "_uuid": "fa26f0bc7a6d835a24989790b20f3c6f32946f45",
        "id": "ZXte7EkX2xu4"
      },
      "source": [
        "df['category'].value_counts().plot.bar()"
      ],
      "execution_count": null,
      "outputs": []
    },
    {
      "cell_type": "markdown",
      "metadata": {
        "_uuid": "400a293df3c8499059d9175f3915187074efd971",
        "id": "QE0yMPEF2xvK"
      },
      "source": [
        "# See sample image"
      ]
    },
    {
      "cell_type": "code",
      "metadata": {
        "trusted": true,
        "_uuid": "602b40f7353871cb161c60b5237f0da0096b2f47",
        "id": "AV-ynYKr2xvT"
      },
      "source": [
        "sample = random.choice(filenames)\n",
        "image = load_img(\"../input/train/train/\"+sample)\n",
        "plt.imshow(image)"
      ],
      "execution_count": null,
      "outputs": []
    },
    {
      "cell_type": "markdown",
      "metadata": {
        "_uuid": "b244e6b7715a04fc6df92dd6dfa3d35c473ca600",
        "id": "KmPx-MUj2xvq"
      },
      "source": [
        "# Build Model"
      ]
    },
    {
      "cell_type": "code",
      "metadata": {
        "trusted": true,
        "_uuid": "8c9f833c1441b657c779844912d0b8028218d454",
        "id": "TU_X1NRc2xvu"
      },
      "source": [
        "from keras.models import Sequential\n",
        "from keras import layers\n",
        "from keras.layers import Conv2D, MaxPooling2D, Dropout, Flatten, Dense, Activation,GlobalMaxPooling2D\n",
        "from keras import applications\n",
        "from keras.preprocessing.image import ImageDataGenerator\n",
        "from keras import optimizers\n",
        "from keras.applications import VGG16\n",
        "from keras.models import Model\n",
        "\n",
        "image_size = 224\n",
        "input_shape = (image_size, image_size, 3)\n",
        "\n",
        "epochs = 5\n",
        "batch_size = 16\n",
        "\n",
        "pre_trained_model = VGG16(input_shape=input_shape, include_top=False, weights=\"imagenet\")\n",
        "    \n",
        "for layer in pre_trained_model.layers[:15]:\n",
        "    layer.trainable = False\n",
        "\n",
        "for layer in pre_trained_model.layers[15:]:\n",
        "    layer.trainable = True\n",
        "    \n",
        "last_layer = pre_trained_model.get_layer('block5_pool')\n",
        "last_output = last_layer.output\n",
        "    \n",
        "# Flatten the output layer to 1 dimension\n",
        "x = GlobalMaxPooling2D()(last_output)\n",
        "# Add a fully connected layer with 512 hidden units and ReLU activation\n",
        "x = Dense(512, activation='relu')(x)\n",
        "# Add a dropout rate of 0.5\n",
        "x = Dropout(0.5)(x)\n",
        "# Add a final sigmoid layer for classification\n",
        "x = layers.Dense(1, activation='sigmoid')(x)\n",
        "\n",
        "model = Model(pre_trained_model.input, x)\n",
        "\n",
        "model.compile(loss='binary_crossentropy',\n",
        "              optimizer=optimizers.SGD(lr=1e-4, momentum=0.9),\n",
        "              metrics=['accuracy'])\n",
        "\n",
        "model.summary()"
      ],
      "execution_count": null,
      "outputs": []
    },
    {
      "cell_type": "markdown",
      "metadata": {
        "_uuid": "a29ebfd697dd7183a1a1345ea41ec138874340b7",
        "id": "71B88PiY2xwI"
      },
      "source": [
        "# Prepare Test and Train Data"
      ]
    },
    {
      "cell_type": "code",
      "metadata": {
        "trusted": true,
        "_uuid": "4eeb7af8dcf02c4ef5ca744c8305c51a2f5cedef",
        "id": "vjld_Te62xwK"
      },
      "source": [
        "train_df, validate_df = train_test_split(df, test_size=0.1)\n",
        "train_df = train_df.reset_index()\n",
        "validate_df = validate_df.reset_index()\n",
        "\n",
        "# validate_df = validate_df.sample(n=100).reset_index() # use for fast testing code purpose\n",
        "# train_df = train_df.sample(n=1800).reset_index() # use for fast testing code purpose\n",
        "\n",
        "total_train = train_df.shape[0]\n",
        "total_validate = validate_df.shape[0]"
      ],
      "execution_count": null,
      "outputs": []
    },
    {
      "cell_type": "markdown",
      "metadata": {
        "_uuid": "ff760be9104f7d9492467b8d9d3405011aa77d11",
        "id": "nvVmYNNJ2xwo"
      },
      "source": [
        "# Traning Generator"
      ]
    },
    {
      "cell_type": "code",
      "metadata": {
        "trusted": true,
        "_uuid": "4d1c7818703a8a4bac5c036fdea45972aa9e5e9e",
        "id": "11ynI9O92xws"
      },
      "source": [
        "train_datagen = ImageDataGenerator(\n",
        "    rotation_range=15,\n",
        "    rescale=1./255,\n",
        "    shear_range=0.2,\n",
        "    zoom_range=0.2,\n",
        "    horizontal_flip=True,\n",
        "    fill_mode='nearest',\n",
        "    width_shift_range=0.1,\n",
        "    height_shift_range=0.1\n",
        ")\n",
        "\n",
        "train_generator = train_datagen.flow_from_dataframe(\n",
        "    train_df, \n",
        "    \"../input/train/train/\", \n",
        "    x_col='filename',\n",
        "    y_col='category',\n",
        "    class_mode='binary',\n",
        "    target_size=(image_size, image_size),\n",
        "    batch_size=batch_size\n",
        ")"
      ],
      "execution_count": null,
      "outputs": []
    },
    {
      "cell_type": "markdown",
      "metadata": {
        "_uuid": "859c7b2857939c19fd2e3bb32839c9f7deb5aa3f",
        "id": "xmtosJ2q2xxA"
      },
      "source": [
        "# Validation Generator"
      ]
    },
    {
      "cell_type": "code",
      "metadata": {
        "trusted": true,
        "_uuid": "7925e16bcacc89f4484fb6fe47e54d6420af732e",
        "id": "RzDgccY62xxD"
      },
      "source": [
        "validation_datagen = ImageDataGenerator(rescale=1./255)\n",
        "validation_generator = validation_datagen.flow_from_dataframe(\n",
        "    validate_df, \n",
        "    \"../input/train/train/\", \n",
        "    x_col='filename',\n",
        "    y_col='category',\n",
        "    class_mode='binary',\n",
        "    target_size=(image_size, image_size),\n",
        "    batch_size=batch_size\n",
        ")"
      ],
      "execution_count": null,
      "outputs": []
    },
    {
      "cell_type": "markdown",
      "metadata": {
        "_uuid": "6e17fc1f002fedd60febb78fee5e81770640b909",
        "id": "S2Gxs48N2xxQ"
      },
      "source": [
        "# See sample generated images"
      ]
    },
    {
      "cell_type": "code",
      "metadata": {
        "trusted": true,
        "_uuid": "23d923dba747f8b47dc75569244cecc6f70df321",
        "id": "L0XBQ7Ps2xxV"
      },
      "source": [
        "example_df = train_df.sample(n=1).reset_index(drop=True)\n",
        "example_generator = train_datagen.flow_from_dataframe(\n",
        "    example_df, \n",
        "    \"../input/train/train/\", \n",
        "    x_col='filename',\n",
        "    y_col='category',\n",
        "    class_mode='binary'\n",
        ")\n",
        "plt.figure(figsize=(12, 12))\n",
        "for i in range(0, 9):\n",
        "    plt.subplot(3, 3, i+1)\n",
        "    for X_batch, Y_batch in example_generator:\n",
        "        image = X_batch[0]\n",
        "        plt.imshow(image)\n",
        "        break\n",
        "plt.tight_layout()\n",
        "plt.show()"
      ],
      "execution_count": null,
      "outputs": []
    },
    {
      "cell_type": "markdown",
      "metadata": {
        "_uuid": "5cd8df64e794ed17de326b613a9819e7da977a0e",
        "id": "ZuWqshMD2xxr"
      },
      "source": [
        "# Fit Model"
      ]
    },
    {
      "cell_type": "code",
      "metadata": {
        "trusted": true,
        "_uuid": "0836a4cc8aa0abf603e0f96573c0c4ff383ad56b",
        "id": "iryO_8H92xxs"
      },
      "source": [
        "# fine-tune the model\n",
        "history = model.fit_generator(\n",
        "    train_generator,\n",
        "    epochs=epochs,\n",
        "    validation_data=validation_generator,\n",
        "    validation_steps=total_validate//batch_size,\n",
        "    steps_per_epoch=total_train//batch_size)"
      ],
      "execution_count": null,
      "outputs": []
    },
    {
      "cell_type": "markdown",
      "metadata": {
        "_uuid": "a624dbb9f5195e47f79c8f2a73d63d337b3cffa2",
        "id": "OgdWXwIR2xyJ"
      },
      "source": [
        ""
      ]
    },
    {
      "cell_type": "code",
      "metadata": {
        "trusted": true,
        "_uuid": "e196e7807ffd55aa404481acdf2fc96e01c238aa",
        "id": "TR2Qa-js2xyL"
      },
      "source": [
        "loss, accuracy = model.evaluate_generator(validation_generator, total_validate//batch_size, workers=12)\n",
        "print(\"Test: accuracy = %f  ;  loss = %f \" % (accuracy, loss))"
      ],
      "execution_count": null,
      "outputs": []
    },
    {
      "cell_type": "code",
      "metadata": {
        "trusted": true,
        "_uuid": "37e05b06e4131600f27d663f2098a2310750f13c",
        "id": "SCFA6hKE2xya"
      },
      "source": [
        "def plot_model_history(model_history, acc='acc', val_acc='val_acc'):\n",
        "    fig, axs = plt.subplots(1,2,figsize=(15,5))\n",
        "    axs[0].plot(range(1,len(model_history.history[acc])+1),model_history.history[acc])\n",
        "    axs[0].plot(range(1,len(model_history.history[val_acc])+1),model_history.history[val_acc])\n",
        "    axs[0].set_title('Model Accuracy')\n",
        "    axs[0].set_ylabel('Accuracy')\n",
        "    axs[0].set_xlabel('Epoch')\n",
        "    axs[0].set_xticks(np.arange(1,len(model_history.history[acc])+1),len(model_history.history[acc])/10)\n",
        "    axs[0].legend(['train', 'val'], loc='best')\n",
        "    axs[1].plot(range(1,len(model_history.history['loss'])+1),model_history.history['loss'])\n",
        "    axs[1].plot(range(1,len(model_history.history['val_loss'])+1),model_history.history['val_loss'])\n",
        "    axs[1].set_title('Model Loss')\n",
        "    axs[1].set_ylabel('Loss')\n",
        "    axs[1].set_xlabel('Epoch')\n",
        "    axs[1].set_xticks(np.arange(1,len(model_history.history['loss'])+1),len(model_history.history['loss'])/10)\n",
        "    axs[1].legend(['train', 'val'], loc='best')\n",
        "    plt.show()\n",
        "    \n",
        "plot_model_history(history)"
      ],
      "execution_count": null,
      "outputs": []
    },
    {
      "cell_type": "code",
      "metadata": {
        "trusted": true,
        "_uuid": "800b2cbabf53dd1725edfa1d82bcf31f05217222",
        "id": "hUup73Mn2xyk"
      },
      "source": [
        "Y_val = validate_df['category']\n",
        "y_pred =  model.predict_generator(validation_generator)"
      ],
      "execution_count": null,
      "outputs": []
    },
    {
      "cell_type": "code",
      "metadata": {
        "trusted": true,
        "_uuid": "834bd766b3fa473bf85328d10625a38adbfb5cd9",
        "id": "dmAsQOvD2xy8"
      },
      "source": [
        "threshold = 0.5\n",
        "y_final = np.where(y_pred > threshold, 1,0)"
      ],
      "execution_count": null,
      "outputs": []
    },
    {
      "cell_type": "code",
      "metadata": {
        "trusted": true,
        "_uuid": "7c427f212c00d161924fa5747c8dc23b19e9787a",
        "id": "AIo3tnSa2xzN"
      },
      "source": [
        "y_final.size"
      ],
      "execution_count": null,
      "outputs": []
    },
    {
      "cell_type": "code",
      "metadata": {
        "trusted": true,
        "_uuid": "875a42b6dee96997a8cbc4f4d7839aabd047cae0",
        "id": "wr3lsJPs2xzZ"
      },
      "source": [
        "import seaborn as sns\n",
        "from sklearn.metrics import confusion_matrix\n",
        "# Predict the values from the validation dataset\n",
        "\n",
        "# compute the confusion matrix\n",
        "confusion_mtx = confusion_matrix(Y_val, y_final) \n",
        "# plot the confusion matrix\n",
        "f,ax = plt.subplots(figsize=(8, 8))\n",
        "sns.heatmap(confusion_mtx, annot=True, linewidths=0.01,cmap=\"Greens\",linecolor=\"gray\", fmt= '.1f',ax=ax)\n",
        "plt.xlabel(\"Predicted Label\")\n",
        "plt.ylabel(\"True Label\")\n",
        "plt.title(\"Confusion Matrix\")\n",
        "plt.show()"
      ],
      "execution_count": null,
      "outputs": []
    },
    {
      "cell_type": "code",
      "metadata": {
        "trusted": true,
        "_uuid": "20e4ce1c5271a7f36364a69972ba3c3f1219ee6a",
        "id": "FGECoNF82x1C"
      },
      "source": [
        "from sklearn.metrics import classification_report\n",
        "\n",
        "# Generate a classification report\n",
        "report = classification_report(Y_val, y_final, target_names=['0','1'])\n",
        "\n",
        "print(report)"
      ],
      "execution_count": null,
      "outputs": []
    },
    {
      "cell_type": "markdown",
      "metadata": {
        "_uuid": "764dc66e4b2bc558f3a0f90b80bb802f5b3d45a8",
        "id": "1_YKCqjs2x1L"
      },
      "source": [
        "# Prepare Testing Data"
      ]
    },
    {
      "cell_type": "code",
      "metadata": {
        "trusted": true,
        "_uuid": "c35e70d3e1e4834dbbf840fa0ea08c049bfcd915",
        "id": "l6AfUJa92x1N"
      },
      "source": [
        "test_filenames = os.listdir(\"../input/test1/test1\")\n",
        "test_df = pd.DataFrame({\n",
        "    'filename': test_filenames\n",
        "})\n",
        "nb_samples = test_df.shape[0]"
      ],
      "execution_count": null,
      "outputs": []
    },
    {
      "cell_type": "markdown",
      "metadata": {
        "_uuid": "291bc3996dce8d05e174b27d64f03996d3e8038e",
        "id": "cFxCXpxa2x1m"
      },
      "source": [
        "# Create Testing Generator"
      ]
    },
    {
      "cell_type": "code",
      "metadata": {
        "trusted": true,
        "_uuid": "52249ec1c35fb1be3adef386be245de3794e55aa",
        "id": "7DyXaBzv2x1o"
      },
      "source": [
        "test_gen = ImageDataGenerator(rescale=1./255)\n",
        "test_generator = test_gen.flow_from_dataframe(\n",
        "    test_df, \n",
        "    \"../input/test1/test1/\", \n",
        "    x_col='filename',\n",
        "    y_col=None,\n",
        "    class_mode=None,\n",
        "    batch_size=batch_size,\n",
        "    target_size=(image_size, image_size),\n",
        "    shuffle=False\n",
        ")"
      ],
      "execution_count": null,
      "outputs": []
    },
    {
      "cell_type": "markdown",
      "metadata": {
        "_uuid": "2fa580afca2931ec5ce374e732d8c1789d03f2ed",
        "id": "j-Qf_UQA2x16"
      },
      "source": [
        "# Predict"
      ]
    },
    {
      "cell_type": "code",
      "metadata": {
        "trusted": true,
        "_uuid": "4782eb23fa7d003f0e2415d995894017edb2d896",
        "id": "6A0h9FXf2x2E"
      },
      "source": [
        "predict = model.predict_generator(test_generator, steps=np.ceil(nb_samples/batch_size))\n",
        "threshold = 0.5\n",
        "test_df['category'] = np.where(predict > threshold, 1,0)"
      ],
      "execution_count": null,
      "outputs": []
    },
    {
      "cell_type": "markdown",
      "metadata": {
        "_uuid": "ce72a83f80d6e012b12b82c8ee3365d671a3b307",
        "id": "yndiWOyd2x2N"
      },
      "source": [
        "# See predicted result"
      ]
    },
    {
      "cell_type": "code",
      "metadata": {
        "trusted": true,
        "_uuid": "98b41dc83075e6297137fb45bf703c313dd4ae28",
        "id": "NTZy6yYB2x2Q"
      },
      "source": [
        "sample_test = test_df.sample(n=9).reset_index()\n",
        "sample_test.head()\n",
        "plt.figure(figsize=(12, 12))\n",
        "for index, row in sample_test.iterrows():\n",
        "    filename = row['filename']\n",
        "    category = row['category']\n",
        "    img = load_img(\"../input/test1/test1/\"+filename, target_size=(256, 256))\n",
        "    plt.subplot(3, 3, index+1)\n",
        "    plt.imshow(img)\n",
        "    plt.xlabel(filename + '(' + \"{}\".format(category) + ')')\n",
        "plt.tight_layout()\n",
        "plt.show()"
      ],
      "execution_count": null,
      "outputs": []
    }
  ]
}